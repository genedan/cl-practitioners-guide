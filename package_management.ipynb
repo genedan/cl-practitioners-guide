{
 "cells": [
  {
   "cell_type": "markdown",
   "source": [
    "# Package Management\n",
    "\n",
    "Reserve studies apply algorithms to manipulate data. These algorithms can be written as Excel formulas, as a sequence of statements in a script, a collection of functions and classes in a package, or in a variety of other ways. The aim of this section is to promote the organization of these algorithms into packages, of which both the R and Python versions of Chainladder are examples. We will start by following what an actuary interested in applying programming on the job might do as they begin to learn their language of preference, by applying simple Python statements to an input triangle. We will then describe the problems the actuary may face when doing so and the motivations towards organizing their code into higher levels of abstraction - that is, functions, classes, and packages - designed to solve such problems."
   ],
   "metadata": {
    "collapsed": false
   },
   "id": "bae79176c3eddd7b"
  },
  {
   "cell_type": "markdown",
   "source": [
    "# Algorithms Stored as a Sequence of Statements"
   ],
   "metadata": {
    "collapsed": false
   },
   "id": "351776065c109850"
  },
  {
   "cell_type": "code",
   "execution_count": null,
   "outputs": [],
   "source": [
    "# Algorithms Encapsulated as Functions"
   ],
   "metadata": {
    "collapsed": false
   },
   "id": "2016f27012585751"
  },
  {
   "cell_type": "code",
   "execution_count": null,
   "outputs": [],
   "source": [
    "# Algorithms Organized into Classes"
   ],
   "metadata": {
    "collapsed": false
   },
   "id": "d6f9aa5d97849a3a"
  },
  {
   "cell_type": "code",
   "execution_count": null,
   "outputs": [],
   "source": [
    "# Algorithms Organized into Packages"
   ],
   "metadata": {
    "collapsed": false
   },
   "id": "386ec175c9ed754"
  },
  {
   "cell_type": "code",
   "execution_count": null,
   "outputs": [],
   "source": [
    "# Sharing Code Between Team Members\n",
    "\n",
    "## Using a version control system\n",
    "\n",
    "## Hosting"
   ],
   "metadata": {
    "collapsed": false
   },
   "id": "e9b644785c223e0d"
  },
  {
   "cell_type": "markdown",
   "source": [],
   "metadata": {
    "collapsed": false
   },
   "id": "ef0eb748ed848893"
  },
  {
   "cell_type": "code",
   "execution_count": null,
   "outputs": [],
   "source": [
    "# Extensibility"
   ],
   "metadata": {
    "collapsed": false
   },
   "id": "636b58d70dc67795"
  }
 ],
 "metadata": {
  "kernelspec": {
   "display_name": "Python 3",
   "language": "python",
   "name": "python3"
  },
  "language_info": {
   "codemirror_mode": {
    "name": "ipython",
    "version": 2
   },
   "file_extension": ".py",
   "mimetype": "text/x-python",
   "name": "python",
   "nbconvert_exporter": "python",
   "pygments_lexer": "ipython2",
   "version": "2.7.6"
  }
 },
 "nbformat": 4,
 "nbformat_minor": 5
}
