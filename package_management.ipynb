{
 "cells": [
  {
   "cell_type": "markdown",
   "source": [
    "# Package Management\n",
    "\n",
    "Reserve studies apply algorithms to manipulate data. These algorithms can be written as Excel formulas, as a sequence of statements in a script, a collection of functions and classes in a package, or in a variety of other ways. The aim of this section is to promote the organization of these algorithms into packages, of which both the R and Python versions of Chainladder are examples. We will start by following what an actuary interested in applying programming on the job might do as they begin to learn their language of preference, by applying simple Python statements to an input triangle. We will then describe the problems the actuary may face when doing so and the motivations towards organizing their code into higher levels of abstraction - that is, functions, classes, and packages - designed to solve such problems."
   ],
   "metadata": {
    "collapsed": false
   },
   "id": "bae79176c3eddd7b"
  },
  {
   "cell_type": "markdown",
   "source": [
    "# Algorithms Stored as a Sequence of Statements"
   ],
   "metadata": {
    "collapsed": false
   },
   "id": "351776065c109850"
  },
  {
   "cell_type": "code",
   "execution_count": null,
   "outputs": [],
   "source": [
    "# Algorithms Encapsulated as Functions"
   ],
   "metadata": {
    "collapsed": false
   },
   "id": "2016f27012585751"
  },
  {
   "cell_type": "code",
   "execution_count": null,
   "outputs": [],
   "source": [
    "# Algorithms Organized into Classes"
   ],
   "metadata": {
    "collapsed": false
   },
   "id": "d6f9aa5d97849a3a"
  },
  {
   "cell_type": "code",
   "execution_count": null,
   "outputs": [],
   "source": [
    "# Algorithms Organized into Packages"
   ],
   "metadata": {
    "collapsed": false
   },
   "id": "386ec175c9ed754"
  },
  {
   "cell_type": "markdown",
   "source": [
    "# Sharing Code Between Team Members\n",
    "\n",
    "As a project increases in scope and visibility, there will be a time when the maintainer will need to share code with others or invite others to work on it.\n",
    "\n",
    "## Reasons for sharing code\n",
    "\n",
    "- Promote visibility within or beyond their organization\n",
    "- Need to grant access to other departments, such as IT to assist in deployment and maintenance\n",
    "- The project scope has grown so that more people need to be core contributors, such as new direct reports in an expanding team\n",
    "- The project has become useful and other people want to use it  \n",
    "\n",
    "## Non-recommended Methods for Sharing Code\n",
    "\n",
    "The following methods for sharing code are not recommended but may have been used in the past prior to the rise of repository hosting providers. Because these methods are not optimal and come with many downsides, but can still be used to share code, it may be difficult to convince IT or upper management to provide proper tools or adopt industry best practices (source control hosted on a repository provider), since you may be told that as long these get the job done, you will need to put up with whatever inconveniences they may carry. Our goal is to clearly articulate these downsides in the hopes that you can overcome the communicative barrier at work.\n",
    "\n",
    "### Email\n",
    "\n",
    "Why you shouldn't share code this way:\n",
    "\n",
    "- Companies may forbid attachments with certain code extensions (.py, .R).\n",
    "- If you shared your code and latter make an update, you will need to send a new file. If your colleague also made their own update, they will need to manually inspect your new version and their version and hope that they didn't make any errors in doing so.\n",
    "\n",
    "Communicative barriers:\n",
    "\n",
    "If you bring these points up to upper management, you may receive the counterargument since there are some workarounds \n",
    "\n",
    "### Shared Folders\n",
    "\n",
    "Perhaps you've gotten your department to adopt version control and have also been provided a shared drive to place your project.\n",
    "\n",
    "Why you shouldn't share code this way:\n",
    "\n",
    "- \n",
    "\n",
    "### Physical Media\n",
    "\n",
    "Although these are methods are not recommended, that does not mean they should never be used, as they sometimes are useful as temporary stopgaps due to system downtime that may happen to the hosting provider.\n",
    "\n",
    "## Using a version control system\n",
    "\n",
    "## Hosting\n",
    "\n",
    "### Repository Hosting Providers\n",
    "\n",
    "\n",
    "\n",
    "## Updating"
   ],
   "metadata": {
    "collapsed": false
   },
   "id": "107b94080da49742"
  },
  {
   "cell_type": "markdown",
   "source": [],
   "metadata": {
    "collapsed": false
   },
   "id": "ef0eb748ed848893"
  },
  {
   "cell_type": "code",
   "execution_count": null,
   "outputs": [],
   "source": [
    "# Extensibility"
   ],
   "metadata": {
    "collapsed": false
   },
   "id": "636b58d70dc67795"
  }
 ],
 "metadata": {
  "kernelspec": {
   "display_name": "Python 3",
   "language": "python",
   "name": "python3"
  },
  "language_info": {
   "codemirror_mode": {
    "name": "ipython",
    "version": 2
   },
   "file_extension": ".py",
   "mimetype": "text/x-python",
   "name": "python",
   "nbconvert_exporter": "python",
   "pygments_lexer": "ipython2",
   "version": "2.7.6"
  }
 },
 "nbformat": 4,
 "nbformat_minor": 5
}
