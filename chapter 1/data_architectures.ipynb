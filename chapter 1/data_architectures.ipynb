{
 "cells": [
  {
   "cell_type": "markdown",
   "source": [
    "# Reserving Data Architectures and Workflows\n",
    "\n",
    "This section will explore how reserving workflows may vary between three major types of employers of actuaries - primary insurers, consultancies, and reinsurers."
   ],
   "metadata": {
    "collapsed": false
   },
   "id": "c1bbaf118910f454"
  },
  {
   "cell_type": "markdown",
   "source": [
    "# Primary Insurer\n",
    "\n",
    "Transactional Database -> OLAP Database -> Reserving System -> Reserving Studies -> Ultimates -> OLAP Database -> General Ledger"
   ],
   "metadata": {
    "collapsed": false
   },
   "id": "3f5037c3a38acbc0"
  },
  {
   "cell_type": "markdown",
   "source": [
    "# Consulting\n",
    "\n",
    "Client Excel Files -> Reserving System -> Reserving Studies -> Ultimates -> Return to Client\n",
    "\n",
    "Client API data feed -> Reserving System -> Reserving Studies -> Ultimates -> Client API data feed\n",
    "\n",
    "## Retention Policies\n",
    "\n",
    "Clients may place restrictions on how their data may be stored by the consultant. For example, some clients may stipulate that the consultant must delete any data provided after a certain period of time. Or perhaps, they may allow the client to place their data in long-term storage but will not allow that data to be stored in the same database or used together with the data of other clients for cross-company or industry-level studies."
   ],
   "metadata": {
    "collapsed": false
   },
   "id": "cc0e4257c2f49081"
  },
  {
   "cell_type": "markdown",
   "source": [
    "# Reinsurer\n",
    "\n",
    "## Data separation policies\n",
    "\n",
    "Reinsurers that write their own primary business may have rules that data received from cedents on the reinsurance side of the business may not be stored with data on the same systems or shared with the employees on the primary side of the business. "
   ],
   "metadata": {
    "collapsed": false
   },
   "id": "ee003f18cf755f40"
  },
  {
   "cell_type": "code",
   "execution_count": null,
   "outputs": [],
   "source": [],
   "metadata": {
    "collapsed": false
   },
   "id": "e01450efee02a0cc"
  }
 ],
 "metadata": {
  "kernelspec": {
   "display_name": "Python 3",
   "language": "python",
   "name": "python3"
  },
  "language_info": {
   "codemirror_mode": {
    "name": "ipython",
    "version": 2
   },
   "file_extension": ".py",
   "mimetype": "text/x-python",
   "name": "python",
   "nbconvert_exporter": "python",
   "pygments_lexer": "ipython2",
   "version": "2.7.6"
  }
 },
 "nbformat": 4,
 "nbformat_minor": 5
}
